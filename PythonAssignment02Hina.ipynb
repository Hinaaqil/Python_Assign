{
 "cells": [
  {
   "cell_type": "markdown",
   "id": "293f0d64",
   "metadata": {},
   "source": [
    "Python Assignment 02"
   ]
  },
  {
   "cell_type": "markdown",
   "id": "3d36d399",
   "metadata": {},
   "source": [
    "Task 1: Dictionary Operations\n",
    "Create a dictionary named 'capitals' with key-value pairs for countries and their capitals. \n",
    "Print the dictionary."
   ]
  },
  {
   "cell_type": "code",
   "execution_count": 3,
   "id": "4809f3dd",
   "metadata": {},
   "outputs": [
    {
     "data": {
      "text/plain": [
       "dict"
      ]
     },
     "execution_count": 3,
     "metadata": {},
     "output_type": "execute_result"
    }
   ],
   "source": [
    "Capitals = {\"United States of America (USA)\":\"Washington, D.C\",\"China\":\"Beijing\",\"Russia\":\"Moscow\",\n",
    "            \"United Kingdom (UK)\":\"London\",\"France\":\"Paris\"}\n",
    "Capitals\n",
    "type(Capitals)"
   ]
  },
  {
   "cell_type": "markdown",
   "id": "a5cc1956",
   "metadata": {},
   "source": [
    "Add a new country and its capital to the 'capitals' dictionary. Print the updated dictionary.\n"
   ]
  },
  {
   "cell_type": "code",
   "execution_count": 5,
   "id": "962de316",
   "metadata": {
    "scrolled": true
   },
   "outputs": [
    {
     "data": {
      "text/plain": [
       "{'United States of America (USA)': 'Washington, D.C',\n",
       " 'China': 'Beijing',\n",
       " 'Russia': 'Moscow',\n",
       " 'United Kingdom (UK)': 'London',\n",
       " 'France': 'Paris',\n",
       " 'Germany': 'Berlin'}"
      ]
     },
     "execution_count": 5,
     "metadata": {},
     "output_type": "execute_result"
    }
   ],
   "source": [
    "Capitals[\"Germany\"] = \"Berlin\"\n",
    "Capitals"
   ]
  },
  {
   "cell_type": "markdown",
   "id": "43f6198e",
   "metadata": {},
   "source": [
    "Check if 'France' exists in the 'capitals' dictionary and print an appropriate message"
   ]
  },
  {
   "cell_type": "code",
   "execution_count": 7,
   "id": "2c933d4b",
   "metadata": {
    "scrolled": true
   },
   "outputs": [
    {
     "name": "stdout",
     "output_type": "stream",
     "text": [
      "France exists\n"
     ]
    }
   ],
   "source": [
    "if 'France' in Capitals:\n",
    "    print(\"France exists\")\n",
    "else:\n",
    "    print(\"does not exist\")"
   ]
  },
  {
   "cell_type": "code",
   "execution_count": null,
   "id": "1181b075",
   "metadata": {},
   "outputs": [],
   "source": []
  },
  {
   "cell_type": "markdown",
   "id": "41d6573e",
   "metadata": {},
   "source": [
    "Task 2: Comparison Operators, Logical Operators, and If/Else\n",
    "Create a variable for user input and write code to check if the number is even or odd. Print \n",
    "the result."
   ]
  },
  {
   "cell_type": "code",
   "execution_count": 24,
   "id": "9273ae6e",
   "metadata": {
    "scrolled": false
   },
   "outputs": [
    {
     "name": "stdout",
     "output_type": "stream",
     "text": [
      "Enter a number: 12\n",
      "The number is even.\n"
     ]
    }
   ],
   "source": [
    "Input = input(\"Enter a number: \")\n",
    "number = int(Input)\n",
    "\n",
    "if number % 2 == 0:\n",
    "    print(\"The number is even.\")\n",
    "else:\n",
    "    print(\"The number is odd.\")"
   ]
  },
  {
   "cell_type": "markdown",
   "id": "77486c07",
   "metadata": {},
   "source": [
    "Create variables for age and GPA. Write code to check eligibility for admission based on \n",
    "certain conditions. Print the result."
   ]
  },
  {
   "cell_type": "code",
   "execution_count": 30,
   "id": "de93002f",
   "metadata": {},
   "outputs": [
    {
     "name": "stdout",
     "output_type": "stream",
     "text": [
      "Enter your age: 19\n",
      "Enter your GPA: 3.4\n",
      "eligible\n"
     ]
    }
   ],
   "source": [
    "age = int(input(\"Enter your age: \"))\n",
    "gpa = float(input(\"Enter your GPA: \"))\n",
    "\n",
    "if age >= 18 and gpa >= 2.5:\n",
    "    print(\"eligible\")\n",
    "else:\n",
    "    print(\"not eligible.\")"
   ]
  },
  {
   "cell_type": "code",
   "execution_count": null,
   "id": "2cea54e3",
   "metadata": {},
   "outputs": [],
   "source": []
  },
  {
   "cell_type": "markdown",
   "id": "dee311df",
   "metadata": {},
   "source": [
    "Task 3: Advanced Data Types\n",
    "Create a set named 'fruits_set' with certain fruits. Print the set."
   ]
  },
  {
   "cell_type": "code",
   "execution_count": 33,
   "id": "8cc8e0da",
   "metadata": {},
   "outputs": [
    {
     "data": {
      "text/plain": [
       "set"
      ]
     },
     "execution_count": 33,
     "metadata": {},
     "output_type": "execute_result"
    }
   ],
   "source": [
    "fruits_set = {\"apple\", \"banana\", \"orange\", \"grape\", \"kiwi\"}\n",
    "fruits_set\n",
    "type(fruits_set)"
   ]
  },
  {
   "cell_type": "markdown",
   "id": "edb31307",
   "metadata": {},
   "source": [
    "Given two sets, perform various operations like union, intersection, difference, and subset \n",
    "check. Print the results."
   ]
  },
  {
   "cell_type": "code",
   "execution_count": 34,
   "id": "af007308",
   "metadata": {
    "scrolled": true
   },
   "outputs": [
    {
     "name": "stdout",
     "output_type": "stream",
     "text": [
      "Union of set1 and set2: {1, 2, 3, 4, 5, 6, 7, 8}\n",
      "Intersection of set1 and set2: {4, 5}\n",
      "Difference between set1 and set2: {1, 2, 3}\n",
      "Is set1 a subset of set2? False\n"
     ]
    }
   ],
   "source": [
    "set1 = {1, 2, 3, 4, 5}\n",
    "set2 = {4, 5, 6, 7, 8}\n",
    "\n",
    "# Union\n",
    "union_set = set1.union(set2)\n",
    "print(\"Union of set1 and set2:\", union_set)\n",
    "\n",
    "# Intersection\n",
    "intersection_set = set1.intersection(set2)\n",
    "print(\"Intersection of set1 and set2:\", intersection_set)\n",
    "\n",
    "# Difference\n",
    "difference_set1_set2 = set1.difference(set2)\n",
    "print(\"Difference between set1 and set2:\", difference_set1_set2)\n",
    "\n",
    "# Subset check\n",
    "subset_check = set1.issubset(set2)\n",
    "print(\"Is set1 a subset of set2?\", subset_check)"
   ]
  },
  {
   "cell_type": "code",
   "execution_count": null,
   "id": "d1854438",
   "metadata": {},
   "outputs": [],
   "source": []
  },
  {
   "cell_type": "markdown",
   "id": "3c19aa46",
   "metadata": {},
   "source": [
    "ask 4: Strings Manipulation\n",
    "Create a string variable with a given sentence. Perform various operations like finding \n",
    "length, converting to uppercase, replacing words, checking for substrings, and splitting into \n",
    "words. Print the results."
   ]
  },
  {
   "cell_type": "code",
   "execution_count": 36,
   "id": "bd1f5686",
   "metadata": {},
   "outputs": [
    {
     "data": {
      "text/plain": [
       "'I am done with my python basic second assignment'"
      ]
     },
     "execution_count": 36,
     "metadata": {},
     "output_type": "execute_result"
    }
   ],
   "source": [
    "my_string = 'I am done with my python basic second assignment'\n",
    "my_string"
   ]
  },
  {
   "cell_type": "code",
   "execution_count": 37,
   "id": "16113ce4",
   "metadata": {},
   "outputs": [
    {
     "data": {
      "text/plain": [
       "48"
      ]
     },
     "execution_count": 37,
     "metadata": {},
     "output_type": "execute_result"
    }
   ],
   "source": [
    "len(my_string)"
   ]
  },
  {
   "cell_type": "code",
   "execution_count": 41,
   "id": "ec1728bb",
   "metadata": {},
   "outputs": [
    {
     "data": {
      "text/plain": [
       "'I AM DONE WITH MY PYTHON BASIC SECOND ASSIGNMENT'"
      ]
     },
     "execution_count": 41,
     "metadata": {},
     "output_type": "execute_result"
    }
   ],
   "source": [
    "my_string.upper()"
   ]
  },
  {
   "cell_type": "code",
   "execution_count": 46,
   "id": "19702409",
   "metadata": {},
   "outputs": [
    {
     "data": {
      "text/plain": [
       "'I am done with my python basic second assignment 02'"
      ]
     },
     "execution_count": 46,
     "metadata": {},
     "output_type": "execute_result"
    }
   ],
   "source": [
    "my_string.replace('assignment','assignment 02')"
   ]
  },
  {
   "cell_type": "code",
   "execution_count": 43,
   "id": "fbb4c520",
   "metadata": {},
   "outputs": [
    {
     "data": {
      "text/plain": [
       "18"
      ]
     },
     "execution_count": 43,
     "metadata": {},
     "output_type": "execute_result"
    }
   ],
   "source": [
    "my_string.find('python')"
   ]
  },
  {
   "cell_type": "code",
   "execution_count": 44,
   "id": "ebd5d832",
   "metadata": {
    "scrolled": true
   },
   "outputs": [
    {
     "data": {
      "text/plain": [
       "-1"
      ]
     },
     "execution_count": 44,
     "metadata": {},
     "output_type": "execute_result"
    }
   ],
   "source": [
    "my_string.find('sql')"
   ]
  },
  {
   "cell_type": "code",
   "execution_count": 47,
   "id": "eb564044",
   "metadata": {},
   "outputs": [
    {
     "data": {
      "text/plain": [
       "['I', 'am', 'done', 'with', 'my', 'python', 'basic', 'second', 'assignment']"
      ]
     },
     "execution_count": 47,
     "metadata": {},
     "output_type": "execute_result"
    }
   ],
   "source": [
    "my_string.split()"
   ]
  }
 ],
 "metadata": {
  "kernelspec": {
   "display_name": "Python 3 (ipykernel)",
   "language": "python",
   "name": "python3"
  },
  "language_info": {
   "codemirror_mode": {
    "name": "ipython",
    "version": 3
   },
   "file_extension": ".py",
   "mimetype": "text/x-python",
   "name": "python",
   "nbconvert_exporter": "python",
   "pygments_lexer": "ipython3",
   "version": "3.11.5"
  }
 },
 "nbformat": 4,
 "nbformat_minor": 5
}
