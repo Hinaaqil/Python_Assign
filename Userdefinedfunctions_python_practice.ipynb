{
 "cells": [
  {
   "cell_type": "code",
   "execution_count": 1,
   "id": "329628f1",
   "metadata": {},
   "outputs": [],
   "source": [
    "def my_sum(num1,num2):\n",
    "    result = num1 + num2\n",
    "    return result\n"
   ]
  },
  {
   "cell_type": "code",
   "execution_count": 2,
   "id": "a0cce4a2",
   "metadata": {},
   "outputs": [
    {
     "data": {
      "text/plain": [
       "7"
      ]
     },
     "execution_count": 2,
     "metadata": {},
     "output_type": "execute_result"
    }
   ],
   "source": [
    "# function call\n",
    "my_sum(3,4)    #postional argument"
   ]
  },
  {
   "cell_type": "code",
   "execution_count": 6,
   "id": "95a99e6f",
   "metadata": {},
   "outputs": [],
   "source": [
    "def my_sum2 (my_iterable):\n",
    "    total = 0\n",
    "    for i in my_iterable:\n",
    "        total +=i\n",
    "    return total"
   ]
  },
  {
   "cell_type": "code",
   "execution_count": 9,
   "id": "edaafe19",
   "metadata": {},
   "outputs": [
    {
     "data": {
      "text/plain": [
       "15"
      ]
     },
     "execution_count": 9,
     "metadata": {},
     "output_type": "execute_result"
    }
   ],
   "source": [
    "a=[1,2,3,4,5]\n",
    "my_sum2(a)"
   ]
  },
  {
   "cell_type": "code",
   "execution_count": 16,
   "id": "f3653bde",
   "metadata": {},
   "outputs": [],
   "source": [
    "# default argument\n",
    "def myfun(x,y=7):\n",
    "    print(\"x:\",x)\n",
    "    print(\"y\",y)\n",
    "    \n",
    "  \n",
    "    "
   ]
  },
  {
   "cell_type": "code",
   "execution_count": 12,
   "id": "bf7b6070",
   "metadata": {},
   "outputs": [
    {
     "name": "stdout",
     "output_type": "stream",
     "text": [
      "x: 3\n",
      "y 7\n"
     ]
    }
   ],
   "source": [
    "# call\n",
    "myfun(3)\n"
   ]
  },
  {
   "cell_type": "code",
   "execution_count": 17,
   "id": "dba0e063",
   "metadata": {},
   "outputs": [
    {
     "name": "stdout",
     "output_type": "stream",
     "text": [
      "x: 5\n",
      "y 4\n"
     ]
    }
   ],
   "source": [
    "# keyword\n",
    "myfun(y=4,x=5)"
   ]
  },
  {
   "cell_type": "code",
   "execution_count": null,
   "id": "2021293d",
   "metadata": {},
   "outputs": [],
   "source": []
  },
  {
   "cell_type": "code",
   "execution_count": 13,
   "id": "9ef2011b",
   "metadata": {},
   "outputs": [],
   "source": [
    "# by position calling # positional argument\n",
    "def greet(name,message):\n",
    "    print(\"Hello\",name)\n",
    "    print(message)\n",
    "    "
   ]
  },
  {
   "cell_type": "code",
   "execution_count": 14,
   "id": "9cfa738d",
   "metadata": {
    "scrolled": true
   },
   "outputs": [
    {
     "name": "stdout",
     "output_type": "stream",
     "text": [
      "Hello Jack\n",
      "whats going on?\n"
     ]
    }
   ],
   "source": [
    "# call\n",
    "greet(\"Jack\",\"whats going on?\")"
   ]
  },
  {
   "cell_type": "code",
   "execution_count": 15,
   "id": "d290a2ef",
   "metadata": {},
   "outputs": [
    {
     "name": "stdout",
     "output_type": "stream",
     "text": [
      "Hello Jill\n",
      "Howdy?\n"
     ]
    }
   ],
   "source": [
    "# keyword argument\n",
    "# we can also pass argument by name\n",
    "greet(message =\"Howdy?\",name=\"Jill\")"
   ]
  },
  {
   "cell_type": "code",
   "execution_count": null,
   "id": "29750a2c",
   "metadata": {},
   "outputs": [],
   "source": []
  },
  {
   "cell_type": "code",
   "execution_count": 18,
   "id": "d8424f76",
   "metadata": {},
   "outputs": [],
   "source": [
    "# arbitrary argument\n",
    "def myfun1(*vrbl):   #unknown no of parameters\n",
    "    for avg in vrbl:\n",
    "        print(avg)"
   ]
  },
  {
   "cell_type": "code",
   "execution_count": 19,
   "id": "2c1be4d8",
   "metadata": {},
   "outputs": [
    {
     "name": "stdout",
     "output_type": "stream",
     "text": [
      "2\n",
      "5\n",
      "77\n",
      "9\n",
      "3\n",
      "5\n"
     ]
    }
   ],
   "source": [
    "myfun1(2,5,77,9,3,5)"
   ]
  },
  {
   "cell_type": "code",
   "execution_count": null,
   "id": "d8243143",
   "metadata": {},
   "outputs": [],
   "source": []
  },
  {
   "cell_type": "code",
   "execution_count": null,
   "id": "f95adf71",
   "metadata": {},
   "outputs": [],
   "source": [
    "# lambda"
   ]
  },
  {
   "cell_type": "code",
   "execution_count": null,
   "id": "0b7f6f71",
   "metadata": {},
   "outputs": [],
   "source": [
    "increment = lambda x : x+1\n",
    "func name          varaible   operation"
   ]
  },
  {
   "cell_type": "code",
   "execution_count": 20,
   "id": "d754c796",
   "metadata": {},
   "outputs": [],
   "source": [
    "sum = lambda x: x+1"
   ]
  },
  {
   "cell_type": "code",
   "execution_count": 21,
   "id": "c17deb2f",
   "metadata": {},
   "outputs": [
    {
     "data": {
      "text/plain": [
       "4"
      ]
     },
     "execution_count": 21,
     "metadata": {},
     "output_type": "execute_result"
    }
   ],
   "source": [
    "#call\n",
    "sum(3)"
   ]
  },
  {
   "cell_type": "code",
   "execution_count": 22,
   "id": "3dde5c10",
   "metadata": {},
   "outputs": [],
   "source": [
    "cube = lambda x,y,z: x*y*z"
   ]
  },
  {
   "cell_type": "code",
   "execution_count": 23,
   "id": "f7d34453",
   "metadata": {},
   "outputs": [
    {
     "data": {
      "text/plain": [
       "60"
      ]
     },
     "execution_count": 23,
     "metadata": {},
     "output_type": "execute_result"
    }
   ],
   "source": [
    "cube(2,5,6)"
   ]
  },
  {
   "cell_type": "code",
   "execution_count": null,
   "id": "31707dec",
   "metadata": {},
   "outputs": [],
   "source": []
  }
 ],
 "metadata": {
  "kernelspec": {
   "display_name": "Python 3 (ipykernel)",
   "language": "python",
   "name": "python3"
  },
  "language_info": {
   "codemirror_mode": {
    "name": "ipython",
    "version": 3
   },
   "file_extension": ".py",
   "mimetype": "text/x-python",
   "name": "python",
   "nbconvert_exporter": "python",
   "pygments_lexer": "ipython3",
   "version": "3.11.5"
  }
 },
 "nbformat": 4,
 "nbformat_minor": 5
}
