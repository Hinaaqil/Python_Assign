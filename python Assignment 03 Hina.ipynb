{
 "cells": [
  {
   "cell_type": "markdown",
   "id": "4c24b2e5",
   "metadata": {},
   "source": [
    "Assignment 03 PYTHON"
   ]
  },
  {
   "cell_type": "code",
   "execution_count": null,
   "id": "63b32c0b",
   "metadata": {},
   "outputs": [],
   "source": []
  },
  {
   "cell_type": "markdown",
   "id": "6202b7c1",
   "metadata": {},
   "source": [
    "Task 1:\n",
    "You are creating a Python program to simulate a simple guessing game. The game will have the \n",
    "following rules:\n",
    "1. The program will generate a random number between 1 and 50 and store it in a variable \n",
    "called \"secret_number.\" For this, you will need to import randint() from the random library in \n",
    "python. Run the following line of code in a cell:\n",
    "from random import randint\n",
    "2. The user will be given 5 attempts to guess the \"secret_number.\"\n",
    "3. The program will use a while loop to repeatedly ask the user for their guess and provide \n",
    "feedback based on their input. (Remember that input() returns a string even if the user enters \n",
    "a number.)\n",
    "4. First, handle the case where the user enters a non-numeric input. For this, you will need to \n",
    "add a try/except block. Google the syntax and under the try block, convert the guess into an \n",
    "int. If the entry is non-numeric, this conversion should fail and python will go to the except \n",
    "block. Under the except block, handle this error by printing \"Invalid input! Please enter a \n",
    "valid number” and utilize the continue statement to allow the user to try again without \n",
    "reducing their remaining attempts.\n",
    "5. If the user guesses the correct number, print \"Congratulations! You guessed the secret \n",
    "number [secret_number] correctly!\" and break out of the loop.\n",
    "6. If the user's guess is too high, print \"Try again! Your guess is too high. You have \n",
    "[attempts_left] attempts left.\" where \"attempts_left\" is the number of remaining attempts.\n",
    "7. If the user's guess is too low, print \"Try again! Your guess is too low. You have [attempts_left] \n",
    "attempts left.\"\n",
    "8. If the user runs out of attempts, print \"Game Over! The secret number was [secret_number]. \n",
    "Better luck next time!\" and break out of the loop."
   ]
  },
  {
   "cell_type": "code",
   "execution_count": 25,
   "id": "4b815ada",
   "metadata": {},
   "outputs": [],
   "source": [
    "from random import randint"
   ]
  },
  {
   "cell_type": "code",
   "execution_count": 26,
   "id": "0b120d09",
   "metadata": {},
   "outputs": [
    {
     "name": "stdout",
     "output_type": "stream",
     "text": [
      "Guess the secret number between 1 and 50: tr\n",
      "Invalid input! Please enter a valid number.\n",
      "Guess the secret number between 1 and 50: 6\n",
      "Try again! Your guess is too low. You have 4 attempts left.\n",
      "Guess the secret number between 1 and 50: 35\n",
      "Try again! Your guess is too high. You have 3 attempts left.\n",
      "Guess the secret number between 1 and 50: 22\n",
      "Try again! Your guess is too low. You have 2 attempts left.\n",
      "Guess the secret number between 1 and 50: 29\n",
      "Try again! Your guess is too high. You have 1 attempts left.\n",
      "Guess the secret number between 1 and 50: 25\n",
      "Try again! Your guess is too high. You have 0 attempts left.\n",
      "Game Over! The secret number was 23. Better luck next time!\n"
     ]
    }
   ],
   "source": [
    "#1 \n",
    "secret_number = randint(1, 50)\n",
    "\n",
    "#2\n",
    "attempts_left = 5\n",
    "\n",
    "#4/5/6/7/8\n",
    "while attempts_left > 0:\n",
    "    try:\n",
    "        guess = int(input(\"Guess the secret number between 1 and 50: \"))\n",
    "        \n",
    "        if guess == secret_number:\n",
    "            print(f\"Congratulations! You guessed the secret number {secret_number} correctly!\")\n",
    "            break\n",
    "        elif guess < secret_number:\n",
    "            print(f\"Try again! Your guess is too low. You have {attempts_left - 1} attempts left.\")\n",
    "        else:\n",
    "            print(f\"Try again! Your guess is too high. You have {attempts_left - 1} attempts left.\")\n",
    "        \n",
    "        attempts_left -= 1\n",
    "    except ValueError:\n",
    "        print(\"Invalid input! Please enter a valid number.\")\n",
    "        continue\n",
    "else:\n",
    "    print(f\"Game Over! The secret number was {secret_number}. Better luck next time!\")\n"
   ]
  },
  {
   "cell_type": "code",
   "execution_count": null,
   "id": "d3511d1f",
   "metadata": {},
   "outputs": [],
   "source": []
  },
  {
   "cell_type": "markdown",
   "id": "f67f3fd0",
   "metadata": {},
   "source": [
    "Task 2:\n",
    "a) Write a function called num_vowels that takes in a string as an argument, and returns the \n",
    "number of vowels in that string. Print out the result for the string “Learning Python is fun \n",
    "and engaging.”\n"
   ]
  },
  {
   "cell_type": "code",
   "execution_count": 1,
   "id": "055c8602",
   "metadata": {},
   "outputs": [],
   "source": [
    "def num_vowels(string):\n",
    "    count = 0\n",
    "    vowels = \"AEIOUaeiou\"\n",
    "    for i in string:\n",
    "        if i in vowels:\n",
    "            count +=1\n",
    "    return count       "
   ]
  },
  {
   "cell_type": "code",
   "execution_count": 2,
   "id": "961fbec8",
   "metadata": {},
   "outputs": [
    {
     "data": {
      "text/plain": [
       "10"
      ]
     },
     "execution_count": 2,
     "metadata": {},
     "output_type": "execute_result"
    }
   ],
   "source": [
    "# call\n",
    "num_vowels(\"Learning Python is fun and engaging.\")"
   ]
  },
  {
   "cell_type": "code",
   "execution_count": null,
   "id": "2b8550ef",
   "metadata": {},
   "outputs": [],
   "source": []
  },
  {
   "cell_type": "markdown",
   "id": "a8c736a5",
   "metadata": {},
   "source": [
    "b) Create a function called hours_to_min that converts hours into minutes. The function should \n",
    "take the number of hours as input and return the equivalent number of minutes. Test the \n",
    "function with 2.5 hours and print the result."
   ]
  },
  {
   "cell_type": "code",
   "execution_count": 4,
   "id": "facd1dff",
   "metadata": {},
   "outputs": [],
   "source": [
    "def hours_to_min(noh):\n",
    "    nom = noh * 60\n",
    "    return nom"
   ]
  },
  {
   "cell_type": "code",
   "execution_count": 5,
   "id": "47e14f73",
   "metadata": {},
   "outputs": [
    {
     "data": {
      "text/plain": [
       "180"
      ]
     },
     "execution_count": 5,
     "metadata": {},
     "output_type": "execute_result"
    }
   ],
   "source": [
    "# call\n",
    "hours_to_min(3)"
   ]
  },
  {
   "cell_type": "code",
   "execution_count": null,
   "id": "a926a527",
   "metadata": {},
   "outputs": [],
   "source": []
  },
  {
   "cell_type": "markdown",
   "id": "1be0f07a",
   "metadata": {},
   "source": [
    "c) Write a python function that takes in a number as an argument, and prints out the table of \n",
    "that number up to 12 times that number. You may name this whatever you wish. \n",
    "Sample output:\n",
    "1 x 8 = 8\n",
    "2 x 8 = 16\n",
    "3 x 8 = 24\n",
    "4 x 8 = 32\n",
    "5 x 8 = 40\n",
    "6 x 8 = 48\n",
    "7 x 8 = 56\n",
    "8 x 8 = 64\n",
    "9 x 8 = 72\n",
    "10 x 8 = 80\n",
    "11 x 8 = 88\n",
    "12 x 8 = 96\n"
   ]
  },
  {
   "cell_type": "code",
   "execution_count": 18,
   "id": "728f1065",
   "metadata": {},
   "outputs": [],
   "source": [
    "def num_table(number):\n",
    "   for i in range(1,13):\n",
    "     print(i ,\"*\" ,number, \"=\" ,number*i)\n",
    "     i +=1\n",
    "    "
   ]
  },
  {
   "cell_type": "code",
   "execution_count": 19,
   "id": "0b2b58aa",
   "metadata": {},
   "outputs": [
    {
     "name": "stdout",
     "output_type": "stream",
     "text": [
      "1 * 4 = 4\n",
      "2 * 4 = 8\n",
      "3 * 4 = 12\n",
      "4 * 4 = 16\n",
      "5 * 4 = 20\n",
      "6 * 4 = 24\n",
      "7 * 4 = 28\n",
      "8 * 4 = 32\n",
      "9 * 4 = 36\n",
      "10 * 4 = 40\n",
      "11 * 4 = 44\n",
      "12 * 4 = 48\n"
     ]
    }
   ],
   "source": [
    "# call\n",
    "num_table(4)"
   ]
  },
  {
   "cell_type": "code",
   "execution_count": null,
   "id": "0a2d6952",
   "metadata": {},
   "outputs": [],
   "source": []
  },
  {
   "cell_type": "markdown",
   "id": "cf146ea5",
   "metadata": {},
   "source": [
    "d) In your previous assignment, you wrote code that checks if a student is eligible for admission \n",
    "to a university. Turn that code into a function called eligibility. The function should take two \n",
    "arguments: the student's age and their previous GPA. The eligibility criteria are as follows:\n",
    "- The student must be at least 18 years old.\n",
    "- The student's previous GPA must be 3.0 or higher on a scale of 4.0.\n",
    "The function should return True if the student meets both criteria, otherwise, return False. \n",
    "Test the function with different ages and GPAs with and without keywords for example:\n",
    "eligibility(30, 3.2) [will depend on which order you provided the positional arguments in the \n",
    "definition]\n",
    "eligibility(GPA = 2.9, age = 40)"
   ]
  },
  {
   "cell_type": "code",
   "execution_count": 22,
   "id": "c6e19898",
   "metadata": {},
   "outputs": [
    {
     "name": "stdout",
     "output_type": "stream",
     "text": [
      "Enter your age: 19\n",
      "Enter your GPA: 3\n",
      "eligible\n"
     ]
    }
   ],
   "source": [
    "age = int(input(\"Enter your age: \"))\n",
    "gpa = float(input(\"Enter your GPA: \"))\n",
    "\n",
    "if age >= 18 and gpa >= 3:\n",
    "    print(\"eligible\")\n",
    "else:\n",
    "    print(\"not eligible.\")"
   ]
  },
  {
   "cell_type": "code",
   "execution_count": 23,
   "id": "19f12962",
   "metadata": {},
   "outputs": [],
   "source": [
    "# using function\n",
    "def eligibility(age, gpa):\n",
    "    if age >= 18 and gpa >= 3:\n",
    "        return True\n",
    "    else:\n",
    "        return False     "
   ]
  },
  {
   "cell_type": "code",
   "execution_count": 24,
   "id": "2375534d",
   "metadata": {},
   "outputs": [
    {
     "data": {
      "text/plain": [
       "True"
      ]
     },
     "execution_count": 24,
     "metadata": {},
     "output_type": "execute_result"
    }
   ],
   "source": [
    "# call\n",
    "eligibility(19,3)"
   ]
  },
  {
   "cell_type": "code",
   "execution_count": null,
   "id": "bc66f5ff",
   "metadata": {},
   "outputs": [],
   "source": []
  },
  {
   "cell_type": "code",
   "execution_count": null,
   "id": "d1c5fe72",
   "metadata": {},
   "outputs": [],
   "source": []
  },
  {
   "cell_type": "code",
   "execution_count": null,
   "id": "f320d65c",
   "metadata": {},
   "outputs": [],
   "source": []
  }
 ],
 "metadata": {
  "kernelspec": {
   "display_name": "Python 3 (ipykernel)",
   "language": "python",
   "name": "python3"
  },
  "language_info": {
   "codemirror_mode": {
    "name": "ipython",
    "version": 3
   },
   "file_extension": ".py",
   "mimetype": "text/x-python",
   "name": "python",
   "nbconvert_exporter": "python",
   "pygments_lexer": "ipython3",
   "version": "3.11.5"
  }
 },
 "nbformat": 4,
 "nbformat_minor": 5
}
