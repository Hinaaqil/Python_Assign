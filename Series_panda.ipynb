{
 "cells": [
  {
   "cell_type": "code",
   "execution_count": 2,
   "id": "d33d2f8b-1ca9-4c0d-a89a-2ba3f998850b",
   "metadata": {},
   "outputs": [],
   "source": [
    "import pandas as pd\n",
    "import numpy as np"
   ]
  },
  {
   "cell_type": "code",
   "execution_count": 3,
   "id": "4c4db7f5-dd1c-41b0-9fda-6bd4dbe83169",
   "metadata": {},
   "outputs": [
    {
     "data": {
      "text/plain": [
       "0     35.467\n",
       "1     63.951\n",
       "2     80.940\n",
       "3     60.665\n",
       "4    127.061\n",
       "5     64.511\n",
       "6    318.523\n",
       "dtype: float64"
      ]
     },
     "execution_count": 3,
     "metadata": {},
     "output_type": "execute_result"
    }
   ],
   "source": [
    "# series               #python list  #numpy array\n",
    "# In millions\n",
    "population_G7 = pd.Series([35.467, 63.951, 80.940, 60.665, 127.061, 64.511, 318.523])\n",
    "population_G7"
   ]
  },
  {
   "cell_type": "code",
   "execution_count": 5,
   "id": "a5145343-104a-4ac2-a0a4-113c643fc098",
   "metadata": {},
   "outputs": [
    {
     "data": {
      "text/plain": [
       "0     35.467\n",
       "1     63.951\n",
       "2     80.940\n",
       "3     60.665\n",
       "4    127.061\n",
       "5     64.511\n",
       "6    318.523\n",
       "Name: G7 Population in millions, dtype: float64"
      ]
     },
     "execution_count": 5,
     "metadata": {},
     "output_type": "execute_result"
    }
   ],
   "source": [
    "population_G7.name = 'G7 Population in millions'\n",
    "population_G7"
   ]
  },
  {
   "cell_type": "code",
   "execution_count": 7,
   "id": "93e7e1cb-95d0-4f05-a497-d2dc410818c1",
   "metadata": {},
   "outputs": [
    {
     "data": {
      "text/plain": [
       "dtype('float64')"
      ]
     },
     "execution_count": 7,
     "metadata": {},
     "output_type": "execute_result"
    }
   ],
   "source": [
    "population_G7.dtype"
   ]
  },
  {
   "cell_type": "code",
   "execution_count": 8,
   "id": "1b0df292-5121-42f2-b017-4c1f3f891adf",
   "metadata": {},
   "outputs": [
    {
     "data": {
      "text/plain": [
       "pandas.core.series.Series"
      ]
     },
     "execution_count": 8,
     "metadata": {},
     "output_type": "execute_result"
    }
   ],
   "source": [
    "type(population_G7)"
   ]
  },
  {
   "cell_type": "code",
   "execution_count": 9,
   "id": "d4079e04-9829-4e80-bf6b-298febb6e936",
   "metadata": {},
   "outputs": [
    {
     "data": {
      "text/plain": [
       "array([ 35.467,  63.951,  80.94 ,  60.665, 127.061,  64.511, 318.523])"
      ]
     },
     "execution_count": 9,
     "metadata": {},
     "output_type": "execute_result"
    }
   ],
   "source": [
    "population_G7.values            #numpy function - convets to numpy array"
   ]
  },
  {
   "cell_type": "code",
   "execution_count": 10,
   "id": "23e6edc5-362c-4ace-b57f-bea05e5a4943",
   "metadata": {},
   "outputs": [
    {
     "data": {
      "text/plain": [
       "numpy.ndarray"
      ]
     },
     "execution_count": 10,
     "metadata": {},
     "output_type": "execute_result"
    }
   ],
   "source": [
    "type(population_G7.values)"
   ]
  },
  {
   "cell_type": "code",
   "execution_count": 12,
   "id": "0cb514bc-4c26-429c-b7c2-c38057fabd3c",
   "metadata": {},
   "outputs": [
    {
     "data": {
      "text/plain": [
       "RangeIndex(start=0, stop=7, step=1)"
      ]
     },
     "execution_count": 12,
     "metadata": {},
     "output_type": "execute_result"
    }
   ],
   "source": [
    "population_G7.index"
   ]
  },
  {
   "cell_type": "code",
   "execution_count": 13,
   "id": "0485b0a8-c3b0-4e80-b22b-96507d11aafd",
   "metadata": {},
   "outputs": [
    {
     "data": {
      "text/plain": [
       "35.467"
      ]
     },
     "execution_count": 13,
     "metadata": {},
     "output_type": "execute_result"
    }
   ],
   "source": [
    "population_G7[0]"
   ]
  },
  {
   "cell_type": "code",
   "execution_count": 15,
   "id": "6326e2a0-3c23-4eb3-8b49-782e8cb7b1f6",
   "metadata": {},
   "outputs": [],
   "source": [
    "population_G7.index = ['Canada','France','Germany','Italy','Japan','United Kingdom','United States',]"
   ]
  },
  {
   "cell_type": "code",
   "execution_count": 16,
   "id": "64432e06-280a-43de-8c69-7c08a1561561",
   "metadata": {},
   "outputs": [
    {
     "data": {
      "text/plain": [
       "Canada             35.467\n",
       "France             63.951\n",
       "Germany            80.940\n",
       "Italy              60.665\n",
       "Japan             127.061\n",
       "United Kingdom     64.511\n",
       "United States     318.523\n",
       "Name: G7 Population in millions, dtype: float64"
      ]
     },
     "execution_count": 16,
     "metadata": {},
     "output_type": "execute_result"
    }
   ],
   "source": [
    "population_G7"
   ]
  },
  {
   "cell_type": "code",
   "execution_count": null,
   "id": "c8d20134-c4b6-4ba8-8b79-9c1579cc2012",
   "metadata": {},
   "outputs": [],
   "source": []
  },
  {
   "cell_type": "code",
   "execution_count": 19,
   "id": "a220a559-c82f-4f08-8c52-ebb1ba2a0358",
   "metadata": {},
   "outputs": [
    {
     "data": {
      "text/plain": [
       "Canada             35.467\n",
       "France             63.951\n",
       "Germany            80.940\n",
       "Italy              60.665\n",
       "Japan             127.061\n",
       "United Kingdom     64.511\n",
       "United States     318.523\n",
       "Name: G7 Population in millions, dtype: float64"
      ]
     },
     "execution_count": 19,
     "metadata": {},
     "output_type": "execute_result"
    }
   ],
   "source": [
    "# Initiating + renaming + indexing in one step    - using dictionary\n",
    "population = pd.Series({'Canada': 35.467,'France': 63.951,'Germany': 80.94,'Italy': 60.665,'Japan': 127.061,\n",
    "'United Kingdom': 64.511,'United States': 318.523},\n",
    "name='G7 Population in millions')\n",
    "\n",
    "population"
   ]
  },
  {
   "cell_type": "code",
   "execution_count": null,
   "id": "ed7b55c6-761c-4e6b-af32-ca06397d40ca",
   "metadata": {},
   "outputs": [],
   "source": []
  },
  {
   "cell_type": "code",
   "execution_count": 22,
   "id": "ada22243-9472-474c-a45f-a101aab1475d",
   "metadata": {},
   "outputs": [
    {
     "data": {
      "text/plain": [
       "Canada             35.467\n",
       "France             63.951\n",
       "Germany            80.940\n",
       "Italy              60.665\n",
       "Japan             127.061\n",
       "United Kingdom     64.511\n",
       "United States     318.523\n",
       "Name: G7 Population in millions, dtype: float64"
      ]
     },
     "execution_count": 22,
     "metadata": {},
     "output_type": "execute_result"
    }
   ],
   "source": [
    "# another way - using list\n",
    "p1 = pd.Series([35.467, 63.951, 80.94, 60.665, 127.061, 64.511, 318.523],\n",
    "         index = ['Canada', 'France', 'Germany', 'Italy', 'Japan', 'United Kingdom','United States'],\n",
    "         name='G7 Population in millions')\n",
    "p1\n"
   ]
  },
  {
   "cell_type": "code",
   "execution_count": 23,
   "id": "d31da7c6-6efe-4a18-96cd-c91735064a6d",
   "metadata": {},
   "outputs": [
    {
     "data": {
      "text/plain": [
       "Canada     35.467\n",
       "France     63.951\n",
       "Germany    80.940\n",
       "Name: G7 Population in millions, dtype: float64"
      ]
     },
     "execution_count": 23,
     "metadata": {},
     "output_type": "execute_result"
    }
   ],
   "source": [
    "# calling  - Indexing\n",
    "\n",
    "pd.Series(p1, index = ['Canada', 'France', 'Germany'])"
   ]
  },
  {
   "cell_type": "code",
   "execution_count": 27,
   "id": "515b87f9-9c99-4978-9450-3722a3df80ce",
   "metadata": {},
   "outputs": [
    {
     "data": {
      "text/plain": [
       "35.467"
      ]
     },
     "execution_count": 27,
     "metadata": {},
     "output_type": "execute_result"
    }
   ],
   "source": [
    "p1['Canada']"
   ]
  },
  {
   "cell_type": "code",
   "execution_count": 29,
   "id": "5a3bf072-c5f5-4e29-be84-326126989a5d",
   "metadata": {},
   "outputs": [
    {
     "data": {
      "text/plain": [
       "Canada    35.467\n",
       "France    63.951\n",
       "Name: G7 Population in millions, dtype: float64"
      ]
     },
     "execution_count": 29,
     "metadata": {},
     "output_type": "execute_result"
    }
   ],
   "source": [
    "# multiple select - use list\n",
    "p1[['Canada', 'France']]"
   ]
  },
  {
   "cell_type": "code",
   "execution_count": 30,
   "id": "7d4c4308-7547-4776-b29a-228ef1803429",
   "metadata": {},
   "outputs": [
    {
     "data": {
      "text/plain": [
       "Canada     35.467\n",
       "France     63.951\n",
       "Germany    80.940\n",
       "Name: G7 Population in millions, dtype: float64"
      ]
     },
     "execution_count": 30,
     "metadata": {},
     "output_type": "execute_result"
    }
   ],
   "source": [
    "pd.Series(p1, index = ['Canada', 'France', 'Germany'])"
   ]
  },
  {
   "cell_type": "code",
   "execution_count": 31,
   "id": "019146bf-244d-49ac-8315-837a0f3fbae0",
   "metadata": {},
   "outputs": [
    {
     "data": {
      "text/plain": [
       "Canada     35.467\n",
       "France     63.951\n",
       "Germany    80.940\n",
       "Name: G7 Population in millions, dtype: float64"
      ]
     },
     "execution_count": 31,
     "metadata": {},
     "output_type": "execute_result"
    }
   ],
   "source": [
    "#slicing\n",
    "p1[0:3]"
   ]
  },
  {
   "cell_type": "code",
   "execution_count": 33,
   "id": "16b16b17-6e64-4259-9baf-9950a1715957",
   "metadata": {},
   "outputs": [
    {
     "data": {
      "text/plain": [
       "Canada             35.467\n",
       "France             63.951\n",
       "Germany            80.940\n",
       "Italy              60.665\n",
       "Japan             127.061\n",
       "United Kingdom     64.511\n",
       "United States     318.523\n",
       "Name: G7 Population in millions, dtype: float64"
      ]
     },
     "execution_count": 33,
     "metadata": {},
     "output_type": "execute_result"
    }
   ],
   "source": [
    "p1['Canada':'United States']"
   ]
  },
  {
   "cell_type": "code",
   "execution_count": null,
   "id": "71dd1781-1448-4ab5-a936-a87458e31e55",
   "metadata": {},
   "outputs": [],
   "source": []
  },
  {
   "cell_type": "code",
   "execution_count": 34,
   "id": "4edd8755-863a-4861-a46e-91a1900852db",
   "metadata": {},
   "outputs": [
    {
     "data": {
      "text/plain": [
       "35.467"
      ]
     },
     "execution_count": 34,
     "metadata": {},
     "output_type": "execute_result"
    }
   ],
   "source": [
    "# loc - iloc   #loc - custom indexing plus last also printed\n",
    "p1.iloc[0]"
   ]
  },
  {
   "cell_type": "code",
   "execution_count": 35,
   "id": "c705c594-a084-4103-8bfc-9798efa4e1b3",
   "metadata": {},
   "outputs": [
    {
     "data": {
      "text/plain": [
       "35.467"
      ]
     },
     "execution_count": 35,
     "metadata": {},
     "output_type": "execute_result"
    }
   ],
   "source": [
    "p1.loc['Canada']"
   ]
  },
  {
   "cell_type": "code",
   "execution_count": 36,
   "id": "63d12930-54a1-442d-bbc0-d05ee472c6d1",
   "metadata": {},
   "outputs": [
    {
     "data": {
      "text/plain": [
       "Canada     35.467\n",
       "France     63.951\n",
       "Germany    80.940\n",
       "Italy      60.665\n",
       "Name: G7 Population in millions, dtype: float64"
      ]
     },
     "execution_count": 36,
     "metadata": {},
     "output_type": "execute_result"
    }
   ],
   "source": [
    "p1.iloc[0:4]"
   ]
  },
  {
   "cell_type": "code",
   "execution_count": 37,
   "id": "6dc61644-bf71-464b-930b-19cc9959a5db",
   "metadata": {},
   "outputs": [
    {
     "data": {
      "text/plain": [
       "318.523"
      ]
     },
     "execution_count": 37,
     "metadata": {},
     "output_type": "execute_result"
    }
   ],
   "source": [
    "p1.iloc[-1]"
   ]
  },
  {
   "cell_type": "code",
   "execution_count": 38,
   "id": "f095f7d8-6d8e-42c3-84bf-c0350899348d",
   "metadata": {},
   "outputs": [
    {
     "data": {
      "text/plain": [
       "Italy     60.665\n",
       "France    63.951\n",
       "Name: G7 Population in millions, dtype: float64"
      ]
     },
     "execution_count": 38,
     "metadata": {},
     "output_type": "execute_result"
    }
   ],
   "source": [
    "p1[['Italy', 'France']]"
   ]
  },
  {
   "cell_type": "code",
   "execution_count": 47,
   "id": "a16bee2c-c32d-4b56-a91e-d91d2d7e32dc",
   "metadata": {},
   "outputs": [
    {
     "data": {
      "text/plain": [
       "United Kingdom     64.511\n",
       "Japan             127.061\n",
       "Name: G7 Population in millions, dtype: float64"
      ]
     },
     "execution_count": 47,
     "metadata": {},
     "output_type": "execute_result"
    }
   ],
   "source": [
    "p1.iloc[-2:-4:-1]"
   ]
  },
  {
   "cell_type": "code",
   "execution_count": 39,
   "id": "d608ec7c-1678-4538-bd67-be01b1ec3105",
   "metadata": {},
   "outputs": [
    {
     "data": {
      "text/plain": [
       "Canada             35.467\n",
       "France             63.951\n",
       "Germany            80.940\n",
       "Italy              60.665\n",
       "Japan             127.061\n",
       "United Kingdom     64.511\n",
       "United States     318.523\n",
       "Name: G7 Population in millions, dtype: float64"
      ]
     },
     "execution_count": 39,
     "metadata": {},
     "output_type": "execute_result"
    }
   ],
   "source": [
    "# Conditional selection (boolean arrays)\n",
    "p1"
   ]
  },
  {
   "cell_type": "code",
   "execution_count": 40,
   "id": "6e6b5616-5f95-420c-a12c-e3a37f2c98fc",
   "metadata": {},
   "outputs": [
    {
     "data": {
      "text/plain": [
       "Canada            False\n",
       "France            False\n",
       "Germany            True\n",
       "Italy             False\n",
       "Japan              True\n",
       "United Kingdom    False\n",
       "United States      True\n",
       "Name: G7 Population in millions, dtype: bool"
      ]
     },
     "execution_count": 40,
     "metadata": {},
     "output_type": "execute_result"
    }
   ],
   "source": [
    "p1 > 70"
   ]
  },
  {
   "cell_type": "code",
   "execution_count": 41,
   "id": "607f0c9b-6c72-45b6-a7f2-b39fafe15917",
   "metadata": {},
   "outputs": [
    {
     "data": {
      "text/plain": [
       "107.30257142857144"
      ]
     },
     "execution_count": 41,
     "metadata": {},
     "output_type": "execute_result"
    }
   ],
   "source": [
    "p1.mean()"
   ]
  },
  {
   "cell_type": "code",
   "execution_count": 42,
   "id": "db56b6bd-6ddd-42ca-b7ba-16ba99b527ed",
   "metadata": {},
   "outputs": [
    {
     "data": {
      "text/plain": [
       "97.24996987121581"
      ]
     },
     "execution_count": 42,
     "metadata": {},
     "output_type": "execute_result"
    }
   ],
   "source": [
    "p1.std()"
   ]
  },
  {
   "cell_type": "code",
   "execution_count": null,
   "id": "2b239802-0ccd-4ed6-9072-6b4d11921cb4",
   "metadata": {},
   "outputs": [],
   "source": [
    "# Operations and methods"
   ]
  },
  {
   "cell_type": "code",
   "execution_count": 43,
   "id": "4eca163c-2a79-4ba1-b14d-ce0a4130b2a8",
   "metadata": {},
   "outputs": [
    {
     "data": {
      "text/plain": [
       "Canada             35467000.0\n",
       "France             63951000.0\n",
       "Germany            80940000.0\n",
       "Italy              60665000.0\n",
       "Japan             127061000.0\n",
       "United Kingdom     64511000.0\n",
       "United States     318523000.0\n",
       "Name: G7 Population in millions, dtype: float64"
      ]
     },
     "execution_count": 43,
     "metadata": {},
     "output_type": "execute_result"
    }
   ],
   "source": [
    "p1 * 1000000"
   ]
  },
  {
   "cell_type": "code",
   "execution_count": 44,
   "id": "ed3ca3e8-cffe-4fac-b73e-837ca5d2ce85",
   "metadata": {},
   "outputs": [
    {
     "data": {
      "text/plain": [
       "Canada             35467000.0\n",
       "France             63951000.0\n",
       "Germany            80940000.0\n",
       "Italy              60665000.0\n",
       "Japan             127061000.0\n",
       "United Kingdom     64511000.0\n",
       "United States     318523000.0\n",
       "Name: G7 Population in millions, dtype: float64"
      ]
     },
     "execution_count": 44,
     "metadata": {},
     "output_type": "execute_result"
    }
   ],
   "source": [
    "p1 * 1_000_000"
   ]
  },
  {
   "cell_type": "code",
   "execution_count": 45,
   "id": "67581a8e-40aa-4213-bf90-e295f6e92829",
   "metadata": {},
   "outputs": [
    {
     "data": {
      "text/plain": [
       "Canada            3.568603\n",
       "France            4.158117\n",
       "Germany           4.393708\n",
       "Italy             4.105367\n",
       "Japan             4.844667\n",
       "United Kingdom    4.166836\n",
       "United States     5.763695\n",
       "Name: G7 Population in millions, dtype: float64"
      ]
     },
     "execution_count": 45,
     "metadata": {},
     "output_type": "execute_result"
    }
   ],
   "source": [
    "import numpy as np\n",
    "np.log(p1)"
   ]
  },
  {
   "cell_type": "code",
   "execution_count": 46,
   "id": "bd50c8fc-6cfc-4928-aa1b-2edd2d34b051",
   "metadata": {},
   "outputs": [
    {
     "data": {
      "text/plain": [
       "68.51866666666666"
      ]
     },
     "execution_count": 46,
     "metadata": {},
     "output_type": "execute_result"
    }
   ],
   "source": [
    "p1['France': 'Italy'].mean()"
   ]
  },
  {
   "cell_type": "code",
   "execution_count": 48,
   "id": "7e037046-f2ff-41c1-ad78-dc001826dbcf",
   "metadata": {},
   "outputs": [],
   "source": [
    "# Modifying series\n",
    "p1['Canada'] = 40.5"
   ]
  },
  {
   "cell_type": "code",
   "execution_count": 49,
   "id": "a2a87ec0-4696-40c8-ba3e-ccac04ccee11",
   "metadata": {},
   "outputs": [
    {
     "data": {
      "text/plain": [
       "Canada             40.500\n",
       "France             63.951\n",
       "Germany            80.940\n",
       "Italy              60.665\n",
       "Japan             127.061\n",
       "United Kingdom     64.511\n",
       "United States     318.523\n",
       "Name: G7 Population in millions, dtype: float64"
      ]
     },
     "execution_count": 49,
     "metadata": {},
     "output_type": "execute_result"
    }
   ],
   "source": [
    "p1"
   ]
  },
  {
   "cell_type": "code",
   "execution_count": null,
   "id": "97afdd72-4828-4c9d-97d4-83c0e102d68e",
   "metadata": {},
   "outputs": [],
   "source": []
  }
 ],
 "metadata": {
  "kernelspec": {
   "display_name": "Python 3 (ipykernel)",
   "language": "python",
   "name": "python3"
  },
  "language_info": {
   "codemirror_mode": {
    "name": "ipython",
    "version": 3
   },
   "file_extension": ".py",
   "mimetype": "text/x-python",
   "name": "python",
   "nbconvert_exporter": "python",
   "pygments_lexer": "ipython3",
   "version": "3.11.7"
  }
 },
 "nbformat": 4,
 "nbformat_minor": 5
}
