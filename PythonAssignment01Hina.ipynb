{
 "cells": [
  {
   "cell_type": "markdown",
   "id": "b7eeb1aa",
   "metadata": {},
   "source": [
    "Assignment 01"
   ]
  },
  {
   "cell_type": "markdown",
   "id": "de61fd10",
   "metadata": {},
   "source": [
    "Task 1: Variables and Data Types\n",
    "a) Create three variables: one for storing your age (integer), one for your name (string), and one to\n",
    "check if you are a student (Boolean). Print the variables.\n"
   ]
  },
  {
   "cell_type": "code",
   "execution_count": 2,
   "id": "a0905a31",
   "metadata": {},
   "outputs": [],
   "source": [
    "Age = 24\n",
    "Name = \"Hina\"\n",
    "Student = True"
   ]
  },
  {
   "cell_type": "code",
   "execution_count": 17,
   "id": "b821068b",
   "metadata": {},
   "outputs": [
    {
     "name": "stdout",
     "output_type": "stream",
     "text": [
      "Age 24\n",
      "Name Hina\n",
      "Student True\n"
     ]
    }
   ],
   "source": [
    "print(\"Age\",Age)\n",
    "print(\"Name\",Name)\n",
    "print(\"Student\",Student)"
   ]
  },
  {
   "cell_type": "code",
   "execution_count": 18,
   "id": "4fca730c",
   "metadata": {},
   "outputs": [
    {
     "name": "stdout",
     "output_type": "stream",
     "text": [
      "<class 'int'>\n",
      "<class 'str'>\n",
      "<class 'bool'>\n"
     ]
    }
   ],
   "source": [
    "print(type(Age))\n",
    "print(type(Name))\n",
    "print(type(Student))"
   ]
  },
  {
   "cell_type": "markdown",
   "id": "ec402add",
   "metadata": {},
   "source": [
    "b) Perform the following operations and print the results:\n",
    "- Add 25 to your age variable.\n",
    "- Concatenate your name with the string \"Smith.\"\n",
    "- Negate the Boolean variable (if True, make it False, and vice versa)."
   ]
  },
  {
   "cell_type": "code",
   "execution_count": 26,
   "id": "970d5621",
   "metadata": {},
   "outputs": [
    {
     "data": {
      "text/plain": [
       "49"
      ]
     },
     "execution_count": 26,
     "metadata": {},
     "output_type": "execute_result"
    }
   ],
   "source": [
    "Age\n",
    "Age + 25\n",
    "Age\n",
    "\n",
    "Age = Age + 25\n",
    "Age\n",
    "\n",
    "# other way\n",
    "Age = 24\n",
    "Age += 25\n",
    "Age"
   ]
  },
  {
   "cell_type": "code",
   "execution_count": 31,
   "id": "edd03dcb",
   "metadata": {},
   "outputs": [
    {
     "data": {
      "text/plain": [
       "'Hina Smith'"
      ]
     },
     "execution_count": 31,
     "metadata": {},
     "output_type": "execute_result"
    }
   ],
   "source": [
    "# - Concatenate your name with the string \"Smith.\"\n",
    "Name\n",
    "Full_name = Name + \" \" + \"Smith\"\n",
    "Full_name"
   ]
  },
  {
   "cell_type": "code",
   "execution_count": 44,
   "id": "1384496a",
   "metadata": {},
   "outputs": [
    {
     "data": {
      "text/plain": [
       "False"
      ]
     },
     "execution_count": 44,
     "metadata": {},
     "output_type": "execute_result"
    }
   ],
   "source": [
    "# - Negate the Boolean variable (if True, make it False, and vice versa).\n",
    "Student\n",
    "not Student\n",
    "\n",
    "Student = not Student"
   ]
  },
  {
   "cell_type": "code",
   "execution_count": null,
   "id": "26967277",
   "metadata": {},
   "outputs": [],
   "source": []
  },
  {
   "cell_type": "markdown",
   "id": "1fa4bbde",
   "metadata": {},
   "source": [
    "Task 2: Expressions and Operators\n",
    "a) A rectangle has a width of 5.5 units and a height of 3.25 units. Store width and height in variables.\n",
    "Create a new variable called area and write an expression to calculate the area. Print the area in the\n",
    "output.\n"
   ]
  },
  {
   "cell_type": "code",
   "execution_count": 50,
   "id": "8d756458",
   "metadata": {},
   "outputs": [
    {
     "name": "stdout",
     "output_type": "stream",
     "text": [
      "The Area of the rectangle is 17.875\n"
     ]
    }
   ],
   "source": [
    "Width = 5.5\n",
    "Height = 3.25\n",
    "\n",
    "Area = Width * Height\n",
    "\n",
    "print(\"The Area of the rectangle is\",Area)"
   ]
  },
  {
   "cell_type": "markdown",
   "id": "431e3e0a",
   "metadata": {},
   "source": [
    "b) Create a temperature variable in Celsius. Convert it to Fahrenheit using the formula: F = (C * 9/5) +\n",
    "32. Store this temperature in a variable called Fahrenheit and print this variable."
   ]
  },
  {
   "cell_type": "code",
   "execution_count": 53,
   "id": "64221795",
   "metadata": {
    "scrolled": true
   },
   "outputs": [
    {
     "name": "stdout",
     "output_type": "stream",
     "text": [
      "Temperature in Fahrenheit 212.0\n"
     ]
    }
   ],
   "source": [
    "Temp_celsius = 100\n",
    "Temp_fahrenheit = (Temp_celsius * 9/5) + 32\n",
    "print(\"Temperature in Fahrenheit\",Temp_fahrenheit)"
   ]
  },
  {
   "cell_type": "markdown",
   "id": "94882f11",
   "metadata": {},
   "source": [
    "c) Create a variable called radius and give it a value of 5. Calculate the area of a circle with this radius\n",
    "and store it in a variable called area. Print area at the end of your code. (Use the formula: area = π *\n",
    "radius^2, where π (pi) is approximately 3.14159)."
   ]
  },
  {
   "cell_type": "code",
   "execution_count": 59,
   "id": "60b4ce14",
   "metadata": {},
   "outputs": [
    {
     "name": "stdout",
     "output_type": "stream",
     "text": [
      "Area of Circle 78.53975\n"
     ]
    }
   ],
   "source": [
    "Radius = 5\n",
    "Area = 3.14159 * Radius**2\n",
    "print(\"Area of Circle\", Area)"
   ]
  },
  {
   "cell_type": "code",
   "execution_count": null,
   "id": "89f51856",
   "metadata": {},
   "outputs": [],
   "source": []
  },
  {
   "cell_type": "markdown",
   "id": "4490403e",
   "metadata": {},
   "source": [
    "ask 3: Introduction to Data Structures\n",
    "a) Create a list called \"fruits\" containing the following fruits: \"apple,\" \"banana,\" \"orange,\" \"grape,\"\n",
    "and \"kiwi.\" Print the list."
   ]
  },
  {
   "cell_type": "code",
   "execution_count": 62,
   "id": "64c139e8",
   "metadata": {},
   "outputs": [
    {
     "name": "stdout",
     "output_type": "stream",
     "text": [
      "['apple,', 'banana,', 'orange,', 'grape,', 'kiwi']\n",
      "<class 'list'>\n"
     ]
    }
   ],
   "source": [
    "Fruits= [\"apple,\",\"banana,\",\"orange,\",\"grape,\",\"kiwi\"]\n",
    "print(Fruits)\n",
    "print(type(Fruits))"
   ]
  },
  {
   "cell_type": "markdown",
   "id": "88e512d5",
   "metadata": {},
   "source": [
    "b) Create a tuple named \"months\" with the names of the first three months of the year. Print the\n",
    "tuple."
   ]
  },
  {
   "cell_type": "code",
   "execution_count": 64,
   "id": "f566fe4d",
   "metadata": {},
   "outputs": [
    {
     "name": "stdout",
     "output_type": "stream",
     "text": [
      "<class 'tuple'>\n"
     ]
    }
   ],
   "source": [
    "months = (\"January\",\"February\",\"March\") \n",
    "print(type(months))"
   ]
  },
  {
   "cell_type": "code",
   "execution_count": null,
   "id": "2db4f419",
   "metadata": {},
   "outputs": [],
   "source": []
  },
  {
   "cell_type": "markdown",
   "id": "21c45072",
   "metadata": {},
   "source": [
    "ask 4: List Manipulation\n",
    "a) Given the list of numbers below, write a Python program to calculate the sum and average of these\n",
    "numbers. Print both results.\n",
    "numbers = [12, 34, 45, 67, 89, 100, 23, 56]"
   ]
  },
  {
   "cell_type": "code",
   "execution_count": 68,
   "id": "ab6408ce",
   "metadata": {},
   "outputs": [
    {
     "name": "stdout",
     "output_type": "stream",
     "text": [
      "Sum of the numbers 426\n",
      "Average of the numbers 53.25\n"
     ]
    }
   ],
   "source": [
    "numbers = [12, 34, 45, 67, 89, 100, 23, 56]\n",
    "sum_numbers = sum(numbers)\n",
    "\n",
    "average = sum_numbers / len(numbers)\n",
    "\n",
    "print(\"Sum of the numbers\", sum_numbers)\n",
    "print(\"Average of the numbers\", average)"
   ]
  },
  {
   "cell_type": "markdown",
   "id": "95f8e3c7",
   "metadata": {},
   "source": [
    "b) Remove the first and last elements from the \"fruits\" list created earlier. Print the updated list."
   ]
  },
  {
   "cell_type": "code",
   "execution_count": 85,
   "id": "4524cd1f",
   "metadata": {},
   "outputs": [
    {
     "data": {
      "text/plain": [
       "['apple,', 'banana,', 'orange,', 'grape,', 'kiwi']"
      ]
     },
     "execution_count": 85,
     "metadata": {},
     "output_type": "execute_result"
    }
   ],
   "source": [
    "Fruits= [\"apple,\",\"banana,\",\"orange,\",\"grape,\",\"kiwi\"]\n",
    "Fruits"
   ]
  },
  {
   "cell_type": "code",
   "execution_count": 86,
   "id": "645737ad",
   "metadata": {
    "scrolled": true
   },
   "outputs": [
    {
     "data": {
      "text/plain": [
       "'apple,'"
      ]
     },
     "execution_count": 86,
     "metadata": {},
     "output_type": "execute_result"
    }
   ],
   "source": [
    "Fruits.pop(0)"
   ]
  },
  {
   "cell_type": "code",
   "execution_count": 87,
   "id": "1ec965da",
   "metadata": {
    "scrolled": true
   },
   "outputs": [
    {
     "data": {
      "text/plain": [
       "['banana,', 'orange,', 'grape,', 'kiwi']"
      ]
     },
     "execution_count": 87,
     "metadata": {},
     "output_type": "execute_result"
    }
   ],
   "source": [
    "Fruits"
   ]
  },
  {
   "cell_type": "code",
   "execution_count": 88,
   "id": "e0495e75",
   "metadata": {
    "scrolled": true
   },
   "outputs": [
    {
     "data": {
      "text/plain": [
       "'kiwi'"
      ]
     },
     "execution_count": 88,
     "metadata": {},
     "output_type": "execute_result"
    }
   ],
   "source": [
    "Fruits.pop(3)"
   ]
  },
  {
   "cell_type": "code",
   "execution_count": 91,
   "id": "a1f820a4",
   "metadata": {},
   "outputs": [
    {
     "name": "stdout",
     "output_type": "stream",
     "text": [
      "Updated list ['banana,', 'orange,', 'grape,']\n"
     ]
    }
   ],
   "source": [
    "Fruits\n",
    "print(\"Updated list\", Fruits)"
   ]
  }
 ],
 "metadata": {
  "kernelspec": {
   "display_name": "Python 3 (ipykernel)",
   "language": "python",
   "name": "python3"
  },
  "language_info": {
   "codemirror_mode": {
    "name": "ipython",
    "version": 3
   },
   "file_extension": ".py",
   "mimetype": "text/x-python",
   "name": "python",
   "nbconvert_exporter": "python",
   "pygments_lexer": "ipython3",
   "version": "3.11.5"
  }
 },
 "nbformat": 4,
 "nbformat_minor": 5
}
